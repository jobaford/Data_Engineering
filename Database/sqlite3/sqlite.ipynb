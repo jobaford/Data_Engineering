{
 "cells": [
  {
   "cell_type": "markdown",
   "id": "5c0b5af6-da32-4615-bd56-42bf2bf6f66d",
   "metadata": {},
   "source": [
    "## Sqlite3\n",
    "SQLite3 in Python is a built-in module that lets you work with SQLite databases. It allows you to store, retrieve, and manage data using SQL commands. Since SQLite is lightweight and doesn't require a separate server, it's great for small projects, apps, and testing. With `sqlite3`, you can create tables, insert data, run queries, and even update or delete records all from your Python code."
   ]
  },
  {
   "cell_type": "code",
   "execution_count": 1,
   "id": "5f8ac2e9-251d-4d80-bfcc-eb81ab60a313",
   "metadata": {},
   "outputs": [],
   "source": [
    "import sqlite3"
   ]
  },
  {
   "cell_type": "code",
   "execution_count": null,
   "id": "ca8e3c34-3fac-4626-8cea-7248b6b863be",
   "metadata": {},
   "outputs": [],
   "source": [
    "## Connect to an SQLite database\n",
    "connection = sqlite3.connect('example.db') # this will create a example.db \n",
    "connection"
   ]
  },
  {
   "cell_type": "code",
   "execution_count": 3,
   "id": "56aa85aa-6223-40ec-9817-623ea247cd86",
   "metadata": {},
   "outputs": [],
   "source": [
    "## create a cursor, create a cursor object, which will make sure that it will iterate \n",
    "## through all the table's rows. So that is the reason we create a cursor\n",
    "cursor = connection.cursor()"
   ]
  },
  {
   "cell_type": "code",
   "execution_count": 4,
   "id": "b487f53d-d0fc-4834-98e7-4fb8a7708a3f",
   "metadata": {},
   "outputs": [
    {
     "data": {
      "text/plain": [
       "<sqlite3.Cursor at 0x299d0e93f40>"
      ]
     },
     "execution_count": 4,
     "metadata": {},
     "output_type": "execute_result"
    }
   ],
   "source": [
    "# Create a table\n",
    "cursor.execute('''\n",
    "Create Table If Not Exists employees(\n",
    "    id Integer Primary Key,\n",
    "    name Text Not Null,\n",
    "    age Integer,\n",
    "    department text \n",
    "    )\n",
    "''') "
   ]
  },
  {
   "cell_type": "code",
   "execution_count": 5,
   "id": "960c16f1-56a0-4b2c-aba3-588747bbdd8c",
   "metadata": {},
   "outputs": [],
   "source": [
    "# Commit the changes\n",
    "connection.commit()"
   ]
  },
  {
   "cell_type": "code",
   "execution_count": 6,
   "id": "61f89eed-f580-4109-9640-c7dcf3e35b6f",
   "metadata": {},
   "outputs": [
    {
     "data": {
      "text/plain": [
       "<sqlite3.Cursor at 0x299d0e93f40>"
      ]
     },
     "execution_count": 6,
     "metadata": {},
     "output_type": "execute_result"
    }
   ],
   "source": [
    "cursor.execute('''\n",
    "Select * From employees\n",
    "''')"
   ]
  },
  {
   "cell_type": "code",
   "execution_count": 7,
   "id": "dcec196f-fefc-4a85-bcc2-87684304de9c",
   "metadata": {},
   "outputs": [],
   "source": [
    "## Insert the data in sqlite table\n",
    "cursor.execute('''\n",
    "Insert Into employees(name,age,department)\n",
    "                values('Jobally',35,'Data Engineer')\n",
    "''')\n",
    "\n",
    "cursor.execute('''\n",
    "Insert Into employees(name,age,department)\n",
    "                values('Bob',32,'Data Scientist')\n",
    "''')\n",
    "\n",
    "cursor.execute('''\n",
    "Insert OR IGNORE Into employees(name,age,department)\n",
    "                values('Charlie',25,'Engineer')\n",
    "''')\n",
    "\n",
    "connection.commit()"
   ]
  },
  {
   "cell_type": "code",
   "execution_count": 8,
   "id": "b3ebbc19-8195-4ec3-8129-efca4dc6279c",
   "metadata": {},
   "outputs": [
    {
     "name": "stdout",
     "output_type": "stream",
     "text": [
      "(1, 'Jobally', 35, 'Data Engineer')\n",
      "(2, 'Bob', 32, 'Data Scientist')\n",
      "(3, 'Charlie', 25, 'Engineer')\n"
     ]
    }
   ],
   "source": [
    "## Query the data from the table\n",
    "cursor.execute('SELECT * FROM employees')\n",
    "rows = cursor.fetchall()\n",
    "\n",
    "## print the queried data\n",
    "for row in rows:\n",
    "    print(row)"
   ]
  },
  {
   "cell_type": "code",
   "execution_count": 10,
   "id": "33d61bb0-d1ed-4919-b986-3b2a02ac4f99",
   "metadata": {},
   "outputs": [],
   "source": [
    "## Update the data in the table\n",
    "cursor.execute('''\n",
    "UPDATE employees\n",
    "SET age=34\n",
    "WHERE name='Jobally'\n",
    "''')\n",
    "connection.commit()"
   ]
  },
  {
   "cell_type": "code",
   "execution_count": 11,
   "id": "f3b09263-8c6d-4de0-acb3-5efc6bb9955a",
   "metadata": {},
   "outputs": [
    {
     "name": "stdout",
     "output_type": "stream",
     "text": [
      "(1, 'Jobally', 34, 'Data Engineer')\n",
      "(2, 'Bob', 32, 'Data Scientist')\n",
      "(3, 'Charlie', 25, 'Engineer')\n"
     ]
    }
   ],
   "source": [
    "## Query the data from the table\n",
    "cursor.execute('SELECT * FROM employees')\n",
    "rows = cursor.fetchall()\n",
    "\n",
    "## print the queried data\n",
    "for row in rows:\n",
    "    print(row)"
   ]
  },
  {
   "cell_type": "code",
   "execution_count": 12,
   "id": "373ff6ba-d18e-428a-bafa-90fa2bf7025e",
   "metadata": {},
   "outputs": [],
   "source": [
    "## Delete the data from the table\n",
    "cursor.execute('''\n",
    "DELETE FROM employees\n",
    "                WHERE name='Bob'\n",
    "''')\n",
    "connection.commit()"
   ]
  },
  {
   "cell_type": "code",
   "execution_count": 13,
   "id": "ba6a26d7-4d2b-4f39-b064-93c95ad241b5",
   "metadata": {},
   "outputs": [
    {
     "name": "stdout",
     "output_type": "stream",
     "text": [
      "(1, 'Jobally', 34, 'Data Engineer')\n",
      "(3, 'Charlie', 25, 'Engineer')\n"
     ]
    }
   ],
   "source": [
    "## Query the data from the table\n",
    "cursor.execute('SELECT * FROM employees')\n",
    "rows = cursor.fetchall()\n",
    "\n",
    "## print the queried data\n",
    "for row in rows:\n",
    "    print(row)"
   ]
  },
  {
   "cell_type": "code",
   "execution_count": 22,
   "id": "0c4dcb7d-da38-4986-a414-c0a932857e0a",
   "metadata": {},
   "outputs": [],
   "source": [
    "connection = sqlite3.connect('sales_data.db')\n",
    "cursor = connection.cursor()\n",
    "# Drop the table if it exists\n",
    "\n",
    "cursor.execute('''\n",
    "CREATE TABLE IF NOT EXISTS sales(\n",
    "    id INTEGER PRIMARY KEY,\n",
    "    date TEXT NOT NULL,\n",
    "    product TEXT,\n",
    "    sales INTEGER,\n",
    "    region TEXT\n",
    ")\n",
    "''')\n",
    "connection.commit()\n",
    "\n",
    "## Insert data into the sales table\n",
    "sales_data = [\n",
    "    ('2023-01-01','Product1',100,'North'),\n",
    "    ('2023-01-02','Product2',200,'South'),\n",
    "    ('2023-01-03','Product1',150,'East'),\n",
    "    ('2023-01-04','Product3',250,'West'),\n",
    "    ('2023-01-05','Product2',300,'North')\n",
    "]\n",
    "\n",
    "## Inset into multiple rows\n",
    "cursor.executemany('''\n",
    "INSERT INTO sales(date,product,sales,region)\n",
    "                    values(?,?,?,?)\n",
    "''', sales_data)\n",
    "\n",
    "connection.commit()"
   ]
  },
  {
   "cell_type": "code",
   "execution_count": 24,
   "id": "ad13fd3d-e23a-41e4-b73b-e6134e404fdd",
   "metadata": {},
   "outputs": [
    {
     "name": "stdout",
     "output_type": "stream",
     "text": [
      "(1, '2023-01-01', 'Product1', 100, 'North')\n",
      "(2, '2023-01-02', 'Product2', 200, 'South')\n",
      "(3, '2023-01-03', 'Product1', 150, 'East')\n",
      "(4, '2023-01-04', 'Product3', 250, 'West')\n",
      "(5, '2023-01-05', 'Product2', 300, 'North')\n"
     ]
    }
   ],
   "source": [
    "## Query the data from the table\n",
    "cursor.execute('SELECT * FROM sales')\n",
    "rows = cursor.fetchall()\n",
    "\n",
    "## print the queried data\n",
    "for row in rows:\n",
    "    print(row)"
   ]
  },
  {
   "cell_type": "code",
   "execution_count": 25,
   "id": "6cb7062a-8b45-4580-8c14-1ef867cccb8b",
   "metadata": {},
   "outputs": [],
   "source": [
    "## Close connection\n",
    "connection.close() #cannt operate on a closed database"
   ]
  },
  {
   "cell_type": "code",
   "execution_count": null,
   "id": "1047bbf9-9235-4fb5-adb0-34f540fc542c",
   "metadata": {},
   "outputs": [],
   "source": []
  }
 ],
 "metadata": {
  "kernelspec": {
   "display_name": "Python 3 (ipykernel)",
   "language": "python",
   "name": "python3"
  },
  "language_info": {
   "codemirror_mode": {
    "name": "ipython",
    "version": 3
   },
   "file_extension": ".py",
   "mimetype": "text/x-python",
   "name": "python",
   "nbconvert_exporter": "python",
   "pygments_lexer": "ipython3",
   "version": "3.13.2"
  }
 },
 "nbformat": 4,
 "nbformat_minor": 5
}
