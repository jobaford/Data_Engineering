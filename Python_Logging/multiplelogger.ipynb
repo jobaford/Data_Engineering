{
 "cells": [
  {
   "cell_type": "markdown",
   "id": "e84db2b5-fa40-45bb-8842-0d32a6fa6e97",
   "metadata": {},
   "source": [
    "## logging with Multiple Loggers\n",
    "You can create multiple loggers for differetn parts of your application."
   ]
  },
  {
   "cell_type": "code",
   "execution_count": 4,
   "id": "f815f011-91c8-435e-ae0c-507347df986c",
   "metadata": {},
   "outputs": [],
   "source": [
    "import logging\n",
    "# create a logger for  module1\n",
    "logger1 = logging.getLogger('module1')\n",
    "logger1.setLevel(logging.DEBUG)\n",
    "\n",
    "# create a logger for module 2\n",
    "logger2 = logging.getLogger('module2')\n",
    "logger2.setLevel(logging.WARNING)\n",
    "\n",
    "# Configure logging settings\n",
    "logging.basicConfig(\n",
    "    level=logging.DEBUG,\n",
    "    format='%(asctime)s - %(name)s - %(levelname)s - %(message)s',\n",
    "    datefmt='%Y-%m-%d %H:%M:%S'\n",
    ")"
   ]
  },
  {
   "cell_type": "code",
   "execution_count": 5,
   "id": "7c7e87d5-f39d-4940-a00e-3947109a339d",
   "metadata": {},
   "outputs": [
    {
     "name": "stderr",
     "output_type": "stream",
     "text": [
      "2025-03-02 15:13:11 - module1 - DEBUG - This is debug message for module1\n",
      "2025-03-02 15:13:11 - module2 - WARNING - This is a warning message for modeule2\n",
      "2025-03-02 15:13:11 - module2 - ERROR - This is an error message\n"
     ]
    }
   ],
   "source": [
    "# log message with different loggers\n",
    "logger1.debug('This is debug message for module1')\n",
    "logger2.warning('This is a warning message for modeule2')\n",
    "logger2.error('This is an error message')"
   ]
  },
  {
   "cell_type": "code",
   "execution_count": null,
   "id": "58dd9b06-6f6a-4703-91cb-982bd15ad127",
   "metadata": {},
   "outputs": [],
   "source": []
  }
 ],
 "metadata": {
  "kernelspec": {
   "display_name": "Python 3 (ipykernel)",
   "language": "python",
   "name": "python3"
  },
  "language_info": {
   "codemirror_mode": {
    "name": "ipython",
    "version": 3
   },
   "file_extension": ".py",
   "mimetype": "text/x-python",
   "name": "python",
   "nbconvert_exporter": "python",
   "pygments_lexer": "ipython3",
   "version": "3.13.2"
  }
 },
 "nbformat": 4,
 "nbformat_minor": 5
}
