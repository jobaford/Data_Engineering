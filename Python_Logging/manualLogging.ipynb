{
 "cells": [
  {
   "cell_type": "markdown",
   "id": "7bb24cac-09dc-4f74-81fd-ebf578b3e8d7",
   "metadata": {},
   "source": [
    "## Manual logging\n",
    "Manually add a file handler instead of using **basicConfig()**"
   ]
  },
  {
   "cell_type": "code",
   "execution_count": 1,
   "id": "528cd635-c552-41a7-8525-baf3c725e824",
   "metadata": {},
   "outputs": [],
   "source": [
    "import logging"
   ]
  },
  {
   "cell_type": "code",
   "execution_count": 2,
   "id": "af4f38fd-16de-40bf-b92a-a92f56e0fccc",
   "metadata": {},
   "outputs": [
    {
     "name": "stderr",
     "output_type": "stream",
     "text": [
      "2025-03-03 14:51:13-ArithmeticApp-DEBUG-Adding 10 + 45 = 55\n"
     ]
    },
    {
     "data": {
      "text/plain": [
       "55"
      ]
     },
     "execution_count": 2,
     "metadata": {},
     "output_type": "execute_result"
    }
   ],
   "source": [
    "# Create a logger named 'ArithmeticApp'\n",
    "logger = logging.getLogger('ArithmeticApp')\n",
    "\n",
    "# Set the logging level to DEBUG, meaning all messages at the DEBUG level and higher will be logged\n",
    "logger.setLevel(logging.DEBUG)\n",
    "\n",
    "# Avoid adding duplicate handlers to the logger\n",
    "if not logger.hasHandlers():\n",
    "    # Create a file handler to log messages to a file named 'app2.log'\n",
    "    file_handler = logging.FileHandler('app2.log')\n",
    "    \n",
    "    # Create a stream handler to log messages to the console (standard output)\n",
    "    stream_handler = logging.StreamHandler()\n",
    "\n",
    "    # Create a formatter to define the format of the log messages\n",
    "    # This will include the time, logger name, log level, and the log message\n",
    "    formatter = logging.Formatter('%(asctime)s-%(name)s-%(levelname)s-%(message)s', \n",
    "                                  datefmt='%Y-%m-%d %H:%M:%S')\n",
    "    \n",
    "    # Apply the formatter to both the file handler and the stream handler\n",
    "    file_handler.setFormatter(formatter)\n",
    "    stream_handler.setFormatter(formatter)\n",
    "\n",
    "    # Add both handlers (file and stream) to the logger so it can log to both locations\n",
    "    logger.addHandler(file_handler)\n",
    "    logger.addHandler(stream_handler)\n",
    "\n",
    "# Define a simple function to add two numbers\n",
    "def add(a, b):\n",
    "    # Calculate the sum of a and b\n",
    "    result = a + b\n",
    "    \n",
    "    # Log the operation at the DEBUG level (this will be displayed in the console and written to the file)\n",
    "    logger.debug(f'Adding {a} + {b} = {result}')\n",
    "    \n",
    "    return result\n",
    "\n",
    "add(10, 45)"
   ]
  },
  {
   "cell_type": "code",
   "execution_count": null,
   "id": "19e7b7f0-532d-44a1-b387-17967bc6906b",
   "metadata": {},
   "outputs": [],
   "source": []
  }
 ],
 "metadata": {
  "kernelspec": {
   "display_name": "Python 3 (ipykernel)",
   "language": "python",
   "name": "python3"
  },
  "language_info": {
   "codemirror_mode": {
    "name": "ipython",
    "version": 3
   },
   "file_extension": ".py",
   "mimetype": "text/x-python",
   "name": "python",
   "nbconvert_exporter": "python",
   "pygments_lexer": "ipython3",
   "version": "3.13.2"
  }
 },
 "nbformat": 4,
 "nbformat_minor": 5
}
