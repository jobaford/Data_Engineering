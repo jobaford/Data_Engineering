{
 "cells": [
  {
   "cell_type": "markdown",
   "id": "549bb733-fc8d-4c4e-8542-692694b20088",
   "metadata": {},
   "source": [
    "## Python Logging\n",
    "Python logging is a way to keep track of what your program is doing. Instead of using `print()`, logging helps you record messages at different importance levels, like debugging info, warnings, or errors. You can save these messages to a file or display them on the screen, making it easier to find and fix issues in your code."
   ]
  },
  {
   "cell_type": "code",
   "execution_count": 1,
   "id": "d74168fb-b3c6-4be5-be09-7dcdeb0a97fa",
   "metadata": {},
   "outputs": [
    {
     "name": "stderr",
     "output_type": "stream",
     "text": [
      "DEBUG:root:This is a debug message\n",
      "INFO:root:This is an info message\n",
      "WARNING:root:This is a warning message\n",
      "ERROR:root:This is an error message\n",
      "CRITICAL:root:This is a critical message\n"
     ]
    }
   ],
   "source": [
    "import logging\n",
    "\n",
    "# Cinfigure the basic logging settings\n",
    "logging.basicConfig(\n",
    "    level=logging.DEBUG\n",
    ")\n",
    "\n",
    "# log messages with different severity levels\n",
    "logging.debug('This is a debug message')\n",
    "logging.info('This is an info message')\n",
    "logging.warning('This is a warning message')\n",
    "logging.error('This is an error message')\n",
    "logging.critical('This is a critical message')"
   ]
  },
  {
   "cell_type": "markdown",
   "id": "9934d8fe-9161-4b12-9336-23ab7f6ec363",
   "metadata": {},
   "source": [
    "Python logging has five default levels, each representing the severity of a message:  \n",
    "\n",
    "1. **DEBUG (10)** – Detailed information, useful for diagnosing problems.  \n",
    "2. **INFO (20)** – General messages about the program’s progress.  \n",
    "3. **WARNING (30)** – Indicates a potential issue that doesn’t stop the program.  \n",
    "4. **ERROR (40)** – A serious problem that prevents a function from running correctly.  \n",
    "5. **CRITICAL (50)** – A severe error that may cause the program to crash.  \n",
    "\n",
    "Each level has a numeric value (in parentheses) that determines its priority. Messages at higher levels (like ERROR and CRITICAL) are more serious than those at lower levels (like DEBUG and INFO)."
   ]
  },
  {
   "cell_type": "markdown",
   "id": "5fca9187-a30f-453b-aa9d-c87d5e6135fd",
   "metadata": {},
   "source": [
    "---------------------------------------------------------------------------------------------------------------"
   ]
  },
  {
   "cell_type": "markdown",
   "id": "ac07bafd-eba6-48c7-8d6e-9c6a09866b54",
   "metadata": {},
   "source": [
    "\n",
    "The datefmt='%Y-%m-%d %H:%M:%S' parameter in logging.basicConfig() controls how the timestamp (%(asctime)s) is formatted in the log messages.\n",
    "\n",
    "The format=\"%(asctime)s - %(levelname)s - %(message)s\" parameter in logging.basicConfig() defines how each log message is structured. It uses format specifiers (placeholders) that get replaced with actual values in the log output."
   ]
  },
  {
   "cell_type": "code",
   "execution_count": 2,
   "id": "aaac989a-817e-4045-9aa0-7b7e97467c8c",
   "metadata": {},
   "outputs": [
    {
     "name": "stderr",
     "output_type": "stream",
     "text": [
      "DEBUG:root:This is a debug message\n",
      "INFO:root:This is an info message\n",
      "WARNING:root:This is a warning message\n",
      "ERROR:root:This is an error message\n",
      "CRITICAL:root:This is a critical message\n"
     ]
    }
   ],
   "source": [
    "logging.basicConfig(\n",
    "    filename='app.log',\n",
    "    filemode='w',\n",
    "    level=logging.DEBUG,\n",
    "    format='%(asctime)s - %(name)s - %(levelname)s - %(message)s',\n",
    "    datefmt='%Y-%m-%d %H:%M:%S'\n",
    ")\n",
    "\n",
    "logging.debug('This is a debug message')\n",
    "logging.info('This is an info message')\n",
    "logging.warning('This is a warning message')\n",
    "logging.error('This is an error message')\n",
    "logging.critical('This is a critical message')"
   ]
  },
  {
   "cell_type": "code",
   "execution_count": null,
   "id": "c7e95059-eb50-4204-a60f-a68521954ec0",
   "metadata": {},
   "outputs": [],
   "source": []
  }
 ],
 "metadata": {
  "kernelspec": {
   "display_name": "Python 3 (ipykernel)",
   "language": "python",
   "name": "python3"
  },
  "language_info": {
   "codemirror_mode": {
    "name": "ipython",
    "version": 3
   },
   "file_extension": ".py",
   "mimetype": "text/x-python",
   "name": "python",
   "nbconvert_exporter": "python",
   "pygments_lexer": "ipython3",
   "version": "3.13.2"
  }
 },
 "nbformat": 4,
 "nbformat_minor": 5
}
