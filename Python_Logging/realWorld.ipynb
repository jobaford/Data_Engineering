{
 "cells": [
  {
   "cell_type": "markdown",
   "id": "1a291668-96f4-4be3-8e48-93f8011cd811",
   "metadata": {},
   "source": [
    "## Real World Example of logging"
   ]
  },
  {
   "cell_type": "code",
   "execution_count": 1,
   "id": "8fb8e54c-4667-4440-b9bd-6c6e21d9a0d3",
   "metadata": {},
   "outputs": [],
   "source": [
    "import logging"
   ]
  },
  {
   "cell_type": "markdown",
   "id": "fc7cdcaf-020b-4d75-9d6a-32e2b39cc710",
   "metadata": {},
   "source": [
    "**logging.FileHandler(name.log)**, is the file name.\n",
    "\n",
    "**logging.StreamHandler()**, is a method which will be responsible in putting all the logs information inside the particular file."
   ]
  },
  {
   "cell_type": "code",
   "execution_count": 4,
   "id": "eb7e17ef-f0c7-446c-9063-3e4ae2a69e6b",
   "metadata": {},
   "outputs": [
    {
     "name": "stderr",
     "output_type": "stream",
     "text": [
      "2025-03-03 14:20:02-ArithmeticApp-DEBUG-Adding 10+45=55\n"
     ]
    },
    {
     "data": {
      "text/plain": [
       "55"
      ]
     },
     "execution_count": 4,
     "metadata": {},
     "output_type": "execute_result"
    }
   ],
   "source": [
    "# logging setting\n",
    "logging.basicConfig(\n",
    "    level=logging.DEBUG,\n",
    "    format='%(asctime)s-%(name)s-%(levelname)s-%(message)s',\n",
    "    datefmt='%Y-%m-%d %H:%M:%S',\n",
    "    handlers=[\n",
    "        logging.FileHandler('app1.log'),\n",
    "        logging.StreamHandler()\n",
    "    ]\n",
    ")\n",
    "\n",
    "logger = logging.getLogger('ArithmeticApp')\n",
    "\n",
    "def add(a,b):\n",
    "    result = a+b\n",
    "    logger.debug(f'Adding {a}+{b}={result}')\n",
    "    return result\n",
    "\n",
    "add(10,45)"
   ]
  },
  {
   "cell_type": "code",
   "execution_count": null,
   "id": "e12b14db-a7d2-4513-a93b-0c3a8284a5e0",
   "metadata": {},
   "outputs": [],
   "source": []
  }
 ],
 "metadata": {
  "kernelspec": {
   "display_name": "Python 3 (ipykernel)",
   "language": "python",
   "name": "python3"
  },
  "language_info": {
   "codemirror_mode": {
    "name": "ipython",
    "version": 3
   },
   "file_extension": ".py",
   "mimetype": "text/x-python",
   "name": "python",
   "nbconvert_exporter": "python",
   "pygments_lexer": "ipython3",
   "version": "3.13.2"
  }
 },
 "nbformat": 4,
 "nbformat_minor": 5
}
